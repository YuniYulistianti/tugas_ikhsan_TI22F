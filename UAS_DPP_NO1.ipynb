{
  "nbformat": 4,
  "nbformat_minor": 0,
  "metadata": {
    "colab": {
      "provenance": []
    },
    "kernelspec": {
      "name": "python3",
      "display_name": "Python 3"
    },
    "language_info": {
      "name": "python"
    }
  },
  "cells": [
    {
      "cell_type": "code",
      "execution_count": 6,
      "metadata": {
        "id": "j1XJYbfGVphl"
      },
      "outputs": [],
      "source": [
        "data = [\n",
        "    {'student_number': 101, 'name': 'Andri', 'subject': 'Programming Basic', 'grade': 80},\n",
        "    {'student_number': 102, 'name': 'Budi', 'subject': 'Programming Basic', 'grade': 90},\n",
        "    {'student_number': 103, 'name': 'Cika', 'subject': 'Programming Basic', 'grade': 100},\n",
        "    {'student_number': 104, 'name': 'Dedi', 'subject': 'Programming Basic', 'grade': 100},\n",
        "    {'student_number': 105, 'name': 'Eka', 'subject': 'Programming Basic', 'grade': 50},\n",
        "    {'student_number': 106, 'name': 'Feri', 'subject': 'Programming Basic', 'grade': 40},\n",
        "    {'student_number': 107, 'name': 'Galih', 'subject': 'Programming Basic', 'grade': 70},\n",
        "    {'student_number': 108, 'name': 'Huda', 'subject': 'Programming Basic', 'grade': 70},\n",
        "    {'student_number': 109, 'name': 'Intan', 'subject': 'Programming Basic', 'grade': 60},\n",
        "    {'student_number': 101, 'name': 'Andri', 'subject': 'Web Programming', 'grade': 70},\n",
        "    {'student_number': 102, 'name': 'Budi', 'subject': 'Web Programming', 'grade': 80},\n",
        "    {'student_number': 103, 'name': 'Cika', 'subject': 'Web Programming', 'grade': 80},\n",
        "    {'student_number': 104, 'name': 'Dedi', 'subject': 'Web Programming', 'grade': 90},\n",
        "    {'student_number': 105, 'name': 'Eka', 'subject': 'Web Programming', 'grade': 90},\n",
        "    {'student_number': 106, 'name': 'Feri', 'subject': 'Web Programming', 'grade': 60},\n",
        "    {'student_number': 107, 'name': 'Galih', 'subject': 'Web Programming', 'grade': 95},\n",
        "    {'student_number': 108, 'name': 'Huda', 'subject': 'Web Programming', 'grade': 85},\n",
        "    {'student_number': 109, 'name': 'Intan', 'subject': 'Web Programming', 'grade': 90}\n",
        "]"
      ]
    },
    {
      "cell_type": "code",
      "source": [
        "for item in data:\n",
        "    if item['grade'] > 80:\n",
        "        print(item)"
      ],
      "metadata": {
        "colab": {
          "base_uri": "https://localhost:8080/"
        },
        "id": "E4bo1mN6V8eS",
        "outputId": "8158cb85-4b51-4889-fb7a-4753e917f10a"
      },
      "execution_count": 7,
      "outputs": [
        {
          "output_type": "stream",
          "name": "stdout",
          "text": [
            "{'student_number': 102, 'name': 'Budi', 'subject': 'Programming Basic', 'grade': 90}\n",
            "{'student_number': 103, 'name': 'Cika', 'subject': 'Programming Basic', 'grade': 100}\n",
            "{'student_number': 104, 'name': 'Dedi', 'subject': 'Programming Basic', 'grade': 100}\n",
            "{'student_number': 104, 'name': 'Dedi', 'subject': 'Web Programming', 'grade': 90}\n",
            "{'student_number': 105, 'name': 'Eka', 'subject': 'Web Programming', 'grade': 90}\n",
            "{'student_number': 107, 'name': 'Galih', 'subject': 'Web Programming', 'grade': 95}\n",
            "{'student_number': 108, 'name': 'Huda', 'subject': 'Web Programming', 'grade': 85}\n",
            "{'student_number': 109, 'name': 'Intan', 'subject': 'Web Programming', 'grade': 90}\n"
          ]
        }
      ]
    }
  ]
}