{
  "nbformat": 4,
  "nbformat_minor": 0,
  "metadata": {
    "colab": {
      "provenance": []
    },
    "kernelspec": {
      "name": "python3",
      "display_name": "Python 3"
    },
    "language_info": {
      "name": "python"
    }
  },
  "cells": [
    {
      "cell_type": "code",
      "execution_count": 5,
      "metadata": {
        "colab": {
          "base_uri": "https://localhost:8080/"
        },
        "id": "YOSEM1CbkH8A",
        "outputId": "358d470a-8d82-4287-ec6a-333504cc7aa6"
      },
      "outputs": [
        {
          "output_type": "stream",
          "name": "stdout",
          "text": [
            "Jumlah huruf besar: 17\n"
          ]
        }
      ],
      "source": [
        "def count_uppercase(text):\n",
        "    return sum(1 for c in text if c.isupper())\n",
        "\n",
        "text = \"IDELETE ALL PICTURE\"\n",
        "uppercase_count = count_uppercase(text)\n",
        "print(\"Jumlah huruf besar:\", uppercase_count)\n"
      ]
    }
  ]
}