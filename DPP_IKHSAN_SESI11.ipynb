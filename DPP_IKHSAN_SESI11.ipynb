{
  "nbformat": 4,
  "nbformat_minor": 0,
  "metadata": {
    "colab": {
      "provenance": []
    },
    "kernelspec": {
      "name": "python3",
      "display_name": "Python 3"
    },
    "language_info": {
      "name": "python"
    }
  },
  "cells": [
    {
      "cell_type": "markdown",
      "source": [
        "NO 1"
      ],
      "metadata": {
        "id": "sLvbAJb71I-5"
      }
    },
    {
      "cell_type": "code",
      "source": [
        "def sum_list(numbers):\n",
        "  total = 0\n",
        "  for num in numbers:\n",
        "    total += num\n",
        "  return total"
      ],
      "metadata": {
        "id": "FMKLJtVI1LM0"
      },
      "execution_count": 1,
      "outputs": []
    },
    {
      "cell_type": "markdown",
      "source": [
        "NO 2"
      ],
      "metadata": {
        "id": "rfgkdayv1aDQ"
      }
    },
    {
      "cell_type": "code",
      "source": [
        "def find_max(numbers):\n",
        "  max_value = numbers[0]\n",
        "  for num in numbers:\n",
        "    if num > max_value:\n",
        "      max_value = num\n",
        "  return max_value"
      ],
      "metadata": {
        "id": "n0HMgrvk1bhz"
      },
      "execution_count": 2,
      "outputs": []
    },
    {
      "cell_type": "markdown",
      "source": [
        "NO 3"
      ],
      "metadata": {
        "id": "uZIHUvah1gdu"
      }
    },
    {
      "cell_type": "code",
      "source": [
        "def add_lists(list1, list2):\n",
        "  result = []\n",
        "  for i in range(len(list1)):\n",
        "    result.append(list1[i] + list2[i])\n",
        "  return result"
      ],
      "metadata": {
        "id": "RkUhAGda1hsG"
      },
      "execution_count": 3,
      "outputs": []
    }
  ]
}